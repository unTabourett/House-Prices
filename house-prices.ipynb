{
 "cells": [
  {
   "cell_type": "code",
   "execution_count": 1,
   "id": "4c6851d7",
   "metadata": {
    "_cell_guid": "b1076dfc-b9ad-4769-8c92-a6c4dae69d19",
    "_uuid": "8f2839f25d086af736a60e9eeb907d3b93b6e0e5",
    "execution": {
     "iopub.execute_input": "2024-09-22T17:49:17.974714Z",
     "iopub.status.busy": "2024-09-22T17:49:17.974185Z",
     "iopub.status.idle": "2024-09-22T17:49:18.405541Z",
     "shell.execute_reply": "2024-09-22T17:49:18.404235Z"
    },
    "papermill": {
     "duration": 0.449699,
     "end_time": "2024-09-22T17:49:18.408271",
     "exception": false,
     "start_time": "2024-09-22T17:49:17.958572",
     "status": "completed"
    },
    "tags": []
   },
   "outputs": [
    {
     "name": "stdout",
     "output_type": "stream",
     "text": [
      "/kaggle/input/house-prices-advanced-regression-techniques/sample_submission.csv\n",
      "/kaggle/input/house-prices-advanced-regression-techniques/data_description.txt\n",
      "/kaggle/input/house-prices-advanced-regression-techniques/train.csv\n",
      "/kaggle/input/house-prices-advanced-regression-techniques/test.csv\n",
      "/kaggle/input/california-housing-prices/housing.csv\n"
     ]
    }
   ],
   "source": [
    "# This Python 3 environment comes with many helpful analytics libraries installed\n",
    "# It is defined by the kaggle/python Docker image: https://github.com/kaggle/docker-python\n",
    "# For example, here's several helpful packages to load\n",
    "\n",
    "import numpy as np # linear algebra\n",
    "import pandas as pd # data processing, CSV file I/O (e.g. pd.read_csv)\n",
    "\n",
    "# Input data files are available in the read-only \"../input/\" directory\n",
    "# For example, running this (by clicking run or pressing Shift+Enter) will list all files under the input directory\n",
    "\n",
    "import os\n",
    "for dirname, _, filenames in os.walk('/kaggle/input'):\n",
    "    for filename in filenames:\n",
    "        print(os.path.join(dirname, filename))\n",
    "\n",
    "# You can write up to 20GB to the current directory (/kaggle/working/) that gets preserved as output when you create a version using \"Save & Run All\" \n",
    "# You can also write temporary files to /kaggle/temp/, but they won't be saved outside of the current session"
   ]
  },
  {
   "cell_type": "code",
   "execution_count": 2,
   "id": "0720fd03",
   "metadata": {
    "execution": {
     "iopub.execute_input": "2024-09-22T17:49:18.437102Z",
     "iopub.status.busy": "2024-09-22T17:49:18.436618Z",
     "iopub.status.idle": "2024-09-22T17:49:18.482602Z",
     "shell.execute_reply": "2024-09-22T17:49:18.481510Z"
    },
    "papermill": {
     "duration": 0.063316,
     "end_time": "2024-09-22T17:49:18.485304",
     "exception": false,
     "start_time": "2024-09-22T17:49:18.421988",
     "status": "completed"
    },
    "tags": []
   },
   "outputs": [],
   "source": [
    "data = pd.read_csv(\"../input/house-prices-advanced-regression-techniques/train.csv\")"
   ]
  },
  {
   "cell_type": "code",
   "execution_count": 3,
   "id": "7d8ff064",
   "metadata": {
    "execution": {
     "iopub.execute_input": "2024-09-22T17:49:18.513558Z",
     "iopub.status.busy": "2024-09-22T17:49:18.513091Z",
     "iopub.status.idle": "2024-09-22T17:49:18.603438Z",
     "shell.execute_reply": "2024-09-22T17:49:18.602287Z"
    },
    "papermill": {
     "duration": 0.10755,
     "end_time": "2024-09-22T17:49:18.606296",
     "exception": false,
     "start_time": "2024-09-22T17:49:18.498746",
     "status": "completed"
    },
    "tags": []
   },
   "outputs": [
    {
     "name": "stdout",
     "output_type": "stream",
     "text": [
      "                Id   MSSubClass  LotFrontage        LotArea  OverallQual  \\\n",
      "count  1460.000000  1460.000000  1201.000000    1460.000000  1460.000000   \n",
      "mean    730.500000    56.897260    70.049958   10516.828082     6.099315   \n",
      "std     421.610009    42.300571    24.284752    9981.264932     1.382997   \n",
      "min       1.000000    20.000000    21.000000    1300.000000     1.000000   \n",
      "25%     365.750000    20.000000    59.000000    7553.500000     5.000000   \n",
      "50%     730.500000    50.000000    69.000000    9478.500000     6.000000   \n",
      "75%    1095.250000    70.000000    80.000000   11601.500000     7.000000   \n",
      "max    1460.000000   190.000000   313.000000  215245.000000    10.000000   \n",
      "\n",
      "       OverallCond    YearBuilt  YearRemodAdd   MasVnrArea   BsmtFinSF1  ...  \\\n",
      "count  1460.000000  1460.000000   1460.000000  1452.000000  1460.000000  ...   \n",
      "mean      5.575342  1971.267808   1984.865753   103.685262   443.639726  ...   \n",
      "std       1.112799    30.202904     20.645407   181.066207   456.098091  ...   \n",
      "min       1.000000  1872.000000   1950.000000     0.000000     0.000000  ...   \n",
      "25%       5.000000  1954.000000   1967.000000     0.000000     0.000000  ...   \n",
      "50%       5.000000  1973.000000   1994.000000     0.000000   383.500000  ...   \n",
      "75%       6.000000  2000.000000   2004.000000   166.000000   712.250000  ...   \n",
      "max       9.000000  2010.000000   2010.000000  1600.000000  5644.000000  ...   \n",
      "\n",
      "        WoodDeckSF  OpenPorchSF  EnclosedPorch    3SsnPorch  ScreenPorch  \\\n",
      "count  1460.000000  1460.000000    1460.000000  1460.000000  1460.000000   \n",
      "mean     94.244521    46.660274      21.954110     3.409589    15.060959   \n",
      "std     125.338794    66.256028      61.119149    29.317331    55.757415   \n",
      "min       0.000000     0.000000       0.000000     0.000000     0.000000   \n",
      "25%       0.000000     0.000000       0.000000     0.000000     0.000000   \n",
      "50%       0.000000    25.000000       0.000000     0.000000     0.000000   \n",
      "75%     168.000000    68.000000       0.000000     0.000000     0.000000   \n",
      "max     857.000000   547.000000     552.000000   508.000000   480.000000   \n",
      "\n",
      "          PoolArea       MiscVal       MoSold       YrSold      SalePrice  \n",
      "count  1460.000000   1460.000000  1460.000000  1460.000000    1460.000000  \n",
      "mean      2.758904     43.489041     6.321918  2007.815753  180921.195890  \n",
      "std      40.177307    496.123024     2.703626     1.328095   79442.502883  \n",
      "min       0.000000      0.000000     1.000000  2006.000000   34900.000000  \n",
      "25%       0.000000      0.000000     5.000000  2007.000000  129975.000000  \n",
      "50%       0.000000      0.000000     6.000000  2008.000000  163000.000000  \n",
      "75%       0.000000      0.000000     8.000000  2009.000000  214000.000000  \n",
      "max     738.000000  15500.000000    12.000000  2010.000000  755000.000000  \n",
      "\n",
      "[8 rows x 38 columns]\n"
     ]
    }
   ],
   "source": [
    "print(data.describe())"
   ]
  },
  {
   "cell_type": "code",
   "execution_count": 4,
   "id": "5a5a3fe7",
   "metadata": {
    "execution": {
     "iopub.execute_input": "2024-09-22T17:49:18.636120Z",
     "iopub.status.busy": "2024-09-22T17:49:18.634640Z",
     "iopub.status.idle": "2024-09-22T17:49:18.664695Z",
     "shell.execute_reply": "2024-09-22T17:49:18.663621Z"
    },
    "papermill": {
     "duration": 0.048314,
     "end_time": "2024-09-22T17:49:18.667663",
     "exception": false,
     "start_time": "2024-09-22T17:49:18.619349",
     "status": "completed"
    },
    "tags": []
   },
   "outputs": [
    {
     "name": "stdout",
     "output_type": "stream",
     "text": [
      "<class 'pandas.core.frame.DataFrame'>\n",
      "RangeIndex: 1460 entries, 0 to 1459\n",
      "Data columns (total 81 columns):\n",
      " #   Column         Non-Null Count  Dtype  \n",
      "---  ------         --------------  -----  \n",
      " 0   Id             1460 non-null   int64  \n",
      " 1   MSSubClass     1460 non-null   int64  \n",
      " 2   MSZoning       1460 non-null   object \n",
      " 3   LotFrontage    1201 non-null   float64\n",
      " 4   LotArea        1460 non-null   int64  \n",
      " 5   Street         1460 non-null   object \n",
      " 6   Alley          91 non-null     object \n",
      " 7   LotShape       1460 non-null   object \n",
      " 8   LandContour    1460 non-null   object \n",
      " 9   Utilities      1460 non-null   object \n",
      " 10  LotConfig      1460 non-null   object \n",
      " 11  LandSlope      1460 non-null   object \n",
      " 12  Neighborhood   1460 non-null   object \n",
      " 13  Condition1     1460 non-null   object \n",
      " 14  Condition2     1460 non-null   object \n",
      " 15  BldgType       1460 non-null   object \n",
      " 16  HouseStyle     1460 non-null   object \n",
      " 17  OverallQual    1460 non-null   int64  \n",
      " 18  OverallCond    1460 non-null   int64  \n",
      " 19  YearBuilt      1460 non-null   int64  \n",
      " 20  YearRemodAdd   1460 non-null   int64  \n",
      " 21  RoofStyle      1460 non-null   object \n",
      " 22  RoofMatl       1460 non-null   object \n",
      " 23  Exterior1st    1460 non-null   object \n",
      " 24  Exterior2nd    1460 non-null   object \n",
      " 25  MasVnrType     588 non-null    object \n",
      " 26  MasVnrArea     1452 non-null   float64\n",
      " 27  ExterQual      1460 non-null   object \n",
      " 28  ExterCond      1460 non-null   object \n",
      " 29  Foundation     1460 non-null   object \n",
      " 30  BsmtQual       1423 non-null   object \n",
      " 31  BsmtCond       1423 non-null   object \n",
      " 32  BsmtExposure   1422 non-null   object \n",
      " 33  BsmtFinType1   1423 non-null   object \n",
      " 34  BsmtFinSF1     1460 non-null   int64  \n",
      " 35  BsmtFinType2   1422 non-null   object \n",
      " 36  BsmtFinSF2     1460 non-null   int64  \n",
      " 37  BsmtUnfSF      1460 non-null   int64  \n",
      " 38  TotalBsmtSF    1460 non-null   int64  \n",
      " 39  Heating        1460 non-null   object \n",
      " 40  HeatingQC      1460 non-null   object \n",
      " 41  CentralAir     1460 non-null   object \n",
      " 42  Electrical     1459 non-null   object \n",
      " 43  1stFlrSF       1460 non-null   int64  \n",
      " 44  2ndFlrSF       1460 non-null   int64  \n",
      " 45  LowQualFinSF   1460 non-null   int64  \n",
      " 46  GrLivArea      1460 non-null   int64  \n",
      " 47  BsmtFullBath   1460 non-null   int64  \n",
      " 48  BsmtHalfBath   1460 non-null   int64  \n",
      " 49  FullBath       1460 non-null   int64  \n",
      " 50  HalfBath       1460 non-null   int64  \n",
      " 51  BedroomAbvGr   1460 non-null   int64  \n",
      " 52  KitchenAbvGr   1460 non-null   int64  \n",
      " 53  KitchenQual    1460 non-null   object \n",
      " 54  TotRmsAbvGrd   1460 non-null   int64  \n",
      " 55  Functional     1460 non-null   object \n",
      " 56  Fireplaces     1460 non-null   int64  \n",
      " 57  FireplaceQu    770 non-null    object \n",
      " 58  GarageType     1379 non-null   object \n",
      " 59  GarageYrBlt    1379 non-null   float64\n",
      " 60  GarageFinish   1379 non-null   object \n",
      " 61  GarageCars     1460 non-null   int64  \n",
      " 62  GarageArea     1460 non-null   int64  \n",
      " 63  GarageQual     1379 non-null   object \n",
      " 64  GarageCond     1379 non-null   object \n",
      " 65  PavedDrive     1460 non-null   object \n",
      " 66  WoodDeckSF     1460 non-null   int64  \n",
      " 67  OpenPorchSF    1460 non-null   int64  \n",
      " 68  EnclosedPorch  1460 non-null   int64  \n",
      " 69  3SsnPorch      1460 non-null   int64  \n",
      " 70  ScreenPorch    1460 non-null   int64  \n",
      " 71  PoolArea       1460 non-null   int64  \n",
      " 72  PoolQC         7 non-null      object \n",
      " 73  Fence          281 non-null    object \n",
      " 74  MiscFeature    54 non-null     object \n",
      " 75  MiscVal        1460 non-null   int64  \n",
      " 76  MoSold         1460 non-null   int64  \n",
      " 77  YrSold         1460 non-null   int64  \n",
      " 78  SaleType       1460 non-null   object \n",
      " 79  SaleCondition  1460 non-null   object \n",
      " 80  SalePrice      1460 non-null   int64  \n",
      "dtypes: float64(3), int64(35), object(43)\n",
      "memory usage: 924.0+ KB\n"
     ]
    }
   ],
   "source": [
    "data.info()"
   ]
  },
  {
   "cell_type": "code",
   "execution_count": 5,
   "id": "2824d89f",
   "metadata": {
    "execution": {
     "iopub.execute_input": "2024-09-22T17:49:18.697616Z",
     "iopub.status.busy": "2024-09-22T17:49:18.697173Z",
     "iopub.status.idle": "2024-09-22T17:49:18.702274Z",
     "shell.execute_reply": "2024-09-22T17:49:18.701158Z"
    },
    "papermill": {
     "duration": 0.02313,
     "end_time": "2024-09-22T17:49:18.704502",
     "exception": false,
     "start_time": "2024-09-22T17:49:18.681372",
     "status": "completed"
    },
    "tags": []
   },
   "outputs": [],
   "source": [
    "import matplotlib.pyplot as plt"
   ]
  },
  {
   "cell_type": "code",
   "execution_count": 6,
   "id": "6c15a748",
   "metadata": {
    "execution": {
     "iopub.execute_input": "2024-09-22T17:49:18.734494Z",
     "iopub.status.busy": "2024-09-22T17:49:18.733887Z",
     "iopub.status.idle": "2024-09-22T17:49:18.740675Z",
     "shell.execute_reply": "2024-09-22T17:49:18.739279Z"
    },
    "papermill": {
     "duration": 0.024637,
     "end_time": "2024-09-22T17:49:18.743198",
     "exception": false,
     "start_time": "2024-09-22T17:49:18.718561",
     "status": "completed"
    },
    "tags": []
   },
   "outputs": [],
   "source": [
    "num_data = data.select_dtypes(include=np.number)"
   ]
  },
  {
   "cell_type": "code",
   "execution_count": 7,
   "id": "48b0263a",
   "metadata": {
    "execution": {
     "iopub.execute_input": "2024-09-22T17:49:18.772873Z",
     "iopub.status.busy": "2024-09-22T17:49:18.772468Z",
     "iopub.status.idle": "2024-09-22T17:49:18.787088Z",
     "shell.execute_reply": "2024-09-22T17:49:18.785434Z"
    },
    "papermill": {
     "duration": 0.033091,
     "end_time": "2024-09-22T17:49:18.789612",
     "exception": false,
     "start_time": "2024-09-22T17:49:18.756521",
     "status": "completed"
    },
    "tags": []
   },
   "outputs": [
    {
     "name": "stdout",
     "output_type": "stream",
     "text": [
      "<class 'pandas.core.frame.DataFrame'>\n",
      "RangeIndex: 1460 entries, 0 to 1459\n",
      "Data columns (total 38 columns):\n",
      " #   Column         Non-Null Count  Dtype  \n",
      "---  ------         --------------  -----  \n",
      " 0   Id             1460 non-null   int64  \n",
      " 1   MSSubClass     1460 non-null   int64  \n",
      " 2   LotFrontage    1201 non-null   float64\n",
      " 3   LotArea        1460 non-null   int64  \n",
      " 4   OverallQual    1460 non-null   int64  \n",
      " 5   OverallCond    1460 non-null   int64  \n",
      " 6   YearBuilt      1460 non-null   int64  \n",
      " 7   YearRemodAdd   1460 non-null   int64  \n",
      " 8   MasVnrArea     1452 non-null   float64\n",
      " 9   BsmtFinSF1     1460 non-null   int64  \n",
      " 10  BsmtFinSF2     1460 non-null   int64  \n",
      " 11  BsmtUnfSF      1460 non-null   int64  \n",
      " 12  TotalBsmtSF    1460 non-null   int64  \n",
      " 13  1stFlrSF       1460 non-null   int64  \n",
      " 14  2ndFlrSF       1460 non-null   int64  \n",
      " 15  LowQualFinSF   1460 non-null   int64  \n",
      " 16  GrLivArea      1460 non-null   int64  \n",
      " 17  BsmtFullBath   1460 non-null   int64  \n",
      " 18  BsmtHalfBath   1460 non-null   int64  \n",
      " 19  FullBath       1460 non-null   int64  \n",
      " 20  HalfBath       1460 non-null   int64  \n",
      " 21  BedroomAbvGr   1460 non-null   int64  \n",
      " 22  KitchenAbvGr   1460 non-null   int64  \n",
      " 23  TotRmsAbvGrd   1460 non-null   int64  \n",
      " 24  Fireplaces     1460 non-null   int64  \n",
      " 25  GarageYrBlt    1379 non-null   float64\n",
      " 26  GarageCars     1460 non-null   int64  \n",
      " 27  GarageArea     1460 non-null   int64  \n",
      " 28  WoodDeckSF     1460 non-null   int64  \n",
      " 29  OpenPorchSF    1460 non-null   int64  \n",
      " 30  EnclosedPorch  1460 non-null   int64  \n",
      " 31  3SsnPorch      1460 non-null   int64  \n",
      " 32  ScreenPorch    1460 non-null   int64  \n",
      " 33  PoolArea       1460 non-null   int64  \n",
      " 34  MiscVal        1460 non-null   int64  \n",
      " 35  MoSold         1460 non-null   int64  \n",
      " 36  YrSold         1460 non-null   int64  \n",
      " 37  SalePrice      1460 non-null   int64  \n",
      "dtypes: float64(3), int64(35)\n",
      "memory usage: 433.6 KB\n",
      "None\n"
     ]
    }
   ],
   "source": [
    "print(num_data.info())"
   ]
  },
  {
   "cell_type": "code",
   "execution_count": 8,
   "id": "85451e8e",
   "metadata": {
    "execution": {
     "iopub.execute_input": "2024-09-22T17:49:18.819676Z",
     "iopub.status.busy": "2024-09-22T17:49:18.819256Z",
     "iopub.status.idle": "2024-09-22T17:49:19.147482Z",
     "shell.execute_reply": "2024-09-22T17:49:19.146288Z"
    },
    "papermill": {
     "duration": 0.346176,
     "end_time": "2024-09-22T17:49:19.150024",
     "exception": false,
     "start_time": "2024-09-22T17:49:18.803848",
     "status": "completed"
    },
    "tags": []
   },
   "outputs": [
    {
     "data": {
      "text/plain": [
       "(array([ 11.,  38.,  99., 232., 273., 218., 176., 104.,  93.,  58.,  42.,\n",
       "         35.,  24.,  10.,  17.,   8.,   7.,   4.,   2.,   1.,   1.,   2.,\n",
       "          1.,   0.,   2.,   0.,   0.,   0.,   0.,   2.]),\n",
       " array([ 34900.        ,  58903.33333333,  82906.66666667, 106910.        ,\n",
       "        130913.33333333, 154916.66666667, 178920.        , 202923.33333333,\n",
       "        226926.66666667, 250930.        , 274933.33333333, 298936.66666667,\n",
       "        322940.        , 346943.33333333, 370946.66666667, 394950.        ,\n",
       "        418953.33333333, 442956.66666667, 466960.        , 490963.33333333,\n",
       "        514966.66666667, 538970.        , 562973.33333333, 586976.66666667,\n",
       "        610980.        , 634983.33333333, 658986.66666667, 682990.        ,\n",
       "        706993.33333333, 730996.66666667, 755000.        ]),\n",
       " <BarContainer object of 30 artists>)"
      ]
     },
     "execution_count": 8,
     "metadata": {},
     "output_type": "execute_result"
    },
    {
     "data": {
      "image/png": "[encoded data removed]",
      "text/plain": [
       "<Figure size 640x480 with 1 Axes>"
      ]
     },
     "metadata": {},
     "output_type": "display_data"
    }
   ],
   "source": [
    "plt.hist(num_data[\"SalePrice\"], bins = 30)"
   ]
  },
  {
   "cell_type": "code",
   "execution_count": 9,
   "id": "d7d24e98",
   "metadata": {
    "execution": {
     "iopub.execute_input": "2024-09-22T17:49:19.179614Z",
     "iopub.status.busy": "2024-09-22T17:49:19.179184Z",
     "iopub.status.idle": "2024-09-22T17:49:19.186505Z",
     "shell.execute_reply": "2024-09-22T17:49:19.185203Z"
    },
    "papermill": {
     "duration": 0.025037,
     "end_time": "2024-09-22T17:49:19.189036",
     "exception": false,
     "start_time": "2024-09-22T17:49:19.163999",
     "status": "completed"
    },
    "tags": []
   },
   "outputs": [
    {
     "name": "stdout",
     "output_type": "stream",
     "text": [
      "Condition1\n",
      "Norm      1260\n",
      "Feedr       81\n",
      "Artery      48\n",
      "RRAn        26\n",
      "PosN        19\n",
      "RRAe        11\n",
      "PosA         8\n",
      "RRNn         5\n",
      "RRNe         2\n",
      "Name: count, dtype: int64\n"
     ]
    }
   ],
   "source": [
    "print(data[\"Condition1\"].value_counts())"
   ]
  },
  {
   "cell_type": "code",
   "execution_count": 10,
   "id": "7846849c",
   "metadata": {
    "execution": {
     "iopub.execute_input": "2024-09-22T17:49:19.219635Z",
     "iopub.status.busy": "2024-09-22T17:49:19.218249Z",
     "iopub.status.idle": "2024-09-22T17:49:19.537327Z",
     "shell.execute_reply": "2024-09-22T17:49:19.535799Z"
    },
    "papermill": {
     "duration": 0.336455,
     "end_time": "2024-09-22T17:49:19.539305",
     "exception": true,
     "start_time": "2024-09-22T17:49:19.202850",
     "status": "failed"
    },
    "tags": []
   },
   "outputs": [
    {
     "ename": "NameError",
     "evalue": "name 'data_norm' is not defined",
     "output_type": "error",
     "traceback": [
      "\u001b[0;31m---------------------------------------------------------------------------\u001b[0m",
      "\u001b[0;31mNameError\u001b[0m                                 Traceback (most recent call last)",
      "Cell \u001b[0;32mIn[10], line 1\u001b[0m\n\u001b[0;32m----> 1\u001b[0m \u001b[38;5;28mprint\u001b[39m(\u001b[43mdata_norm\u001b[49m[\u001b[38;5;124m\"\u001b[39m\u001b[38;5;124mSalePrice\u001b[39m\u001b[38;5;124m\"\u001b[39m]\u001b[38;5;241m.\u001b[39mmean())\n\u001b[1;32m      2\u001b[0m \u001b[38;5;28mprint\u001b[39m(data_norm[\u001b[38;5;124m\"\u001b[39m\u001b[38;5;124mSalePrice\u001b[39m\u001b[38;5;124m\"\u001b[39m]\u001b[38;5;241m.\u001b[39mstd())\n",
      "\u001b[0;31mNameError\u001b[0m: name 'data_norm' is not defined"
     ]
    }
   ],
   "source": [
    "print(data_norm[\"SalePrice\"].mean())\n",
    "print(data_norm[\"SalePrice\"].std())"
   ]
  },
  {
   "cell_type": "code",
   "execution_count": null,
   "id": "71a5b0b0",
   "metadata": {
    "execution": {
     "iopub.execute_input": "2024-09-22T15:37:37.707528Z",
     "iopub.status.busy": "2024-09-22T15:37:37.707051Z",
     "iopub.status.idle": "2024-09-22T15:37:37.724633Z",
     "shell.execute_reply": "2024-09-22T15:37:37.723302Z",
     "shell.execute_reply.started": "2024-09-22T15:37:37.707484Z"
    },
    "papermill": {
     "duration": null,
     "end_time": null,
     "exception": null,
     "start_time": null,
     "status": "pending"
    },
    "tags": []
   },
   "outputs": [],
   "source": [
    "data_norm = data[data[\"Condition1\"]==\"Norm\"]\n",
    "data_feedr = data[data[\"Condition1\"]==\"Feedr\"]\n",
    "data_Artery = data[data[\"Condition1\"]==\"Artery\"]\n",
    "data_RRAn = data[data[\"Condition1\"]==\"RRAn\"]\n",
    "data_PosN = data[data[\"Condition1\"]==\"PosN\"]\n",
    "#print(data_norm[\"SalePrice\"].mean, data_norm[\"SalePrice\"].std())\n",
    "#print(data_feedr[\"SalePrice\"].mean, data_feedr[\"SalePrice\"].std())\n",
    "#print(data_Artery[\"SalePrice\"].mean, data_Artery[\"SalePrice\"].std())\n",
    "#print(data_RRAn[\"SalePrice\"].mean, data_RRAn[\"SalePrice\"].std())\n",
    "#plt.hist(data_norm[\"SalePrice\"], bins = 50)"
   ]
  },
  {
   "cell_type": "code",
   "execution_count": null,
   "id": "f9f24c3f",
   "metadata": {
    "execution": {
     "iopub.execute_input": "2024-09-22T15:37:38.215694Z",
     "iopub.status.busy": "2024-09-22T15:37:38.215190Z",
     "iopub.status.idle": "2024-09-22T15:37:38.226126Z",
     "shell.execute_reply": "2024-09-22T15:37:38.224552Z",
     "shell.execute_reply.started": "2024-09-22T15:37:38.215647Z"
    },
    "papermill": {
     "duration": null,
     "end_time": null,
     "exception": null,
     "start_time": null,
     "status": "pending"
    },
    "tags": []
   },
   "outputs": [],
   "source": [
    "print(data_norm[\"SalePrice\"].mean(),data_norm[\"SalePrice\"].std())\n",
    "print(data_feedr[\"SalePrice\"].mean(),data_feedr[\"SalePrice\"].std())\n",
    "print(data_Artery[\"SalePrice\"].mean(), data_Artery[\"SalePrice\"].std())\n",
    "print(data_RRAn[\"SalePrice\"].mean(), data_RRAn[\"SalePrice\"].std())\n"
   ]
  },
  {
   "cell_type": "code",
   "execution_count": null,
   "id": "28c91e6b",
   "metadata": {
    "execution": {
     "iopub.execute_input": "2024-09-22T15:37:39.063410Z",
     "iopub.status.busy": "2024-09-22T15:37:39.062891Z",
     "iopub.status.idle": "2024-09-22T15:37:39.069075Z",
     "shell.execute_reply": "2024-09-22T15:37:39.067653Z",
     "shell.execute_reply.started": "2024-09-22T15:37:39.063364Z"
    },
    "papermill": {
     "duration": null,
     "end_time": null,
     "exception": null,
     "start_time": null,
     "status": "pending"
    },
    "tags": []
   },
   "outputs": [],
   "source": [
    "#df = data[\"LotArea\", \"Utilities\", ]"
   ]
  },
  {
   "cell_type": "code",
   "execution_count": null,
   "id": "8bf92aad",
   "metadata": {
    "execution": {
     "iopub.execute_input": "2024-09-22T15:37:39.376731Z",
     "iopub.status.busy": "2024-09-22T15:37:39.376051Z",
     "iopub.status.idle": "2024-09-22T15:37:39.386431Z",
     "shell.execute_reply": "2024-09-22T15:37:39.384630Z",
     "shell.execute_reply.started": "2024-09-22T15:37:39.376678Z"
    },
    "papermill": {
     "duration": null,
     "end_time": null,
     "exception": null,
     "start_time": null,
     "status": "pending"
    },
    "tags": []
   },
   "outputs": [],
   "source": [
    "data[\"Neighborhood\"].values"
   ]
  },
  {
   "cell_type": "code",
   "execution_count": null,
   "id": "077055cd",
   "metadata": {
    "execution": {
     "iopub.execute_input": "2024-09-22T15:37:39.900792Z",
     "iopub.status.busy": "2024-09-22T15:37:39.900342Z",
     "iopub.status.idle": "2024-09-22T15:37:39.936049Z",
     "shell.execute_reply": "2024-09-22T15:37:39.934148Z",
     "shell.execute_reply.started": "2024-09-22T15:37:39.900748Z"
    },
    "papermill": {
     "duration": null,
     "end_time": null,
     "exception": null,
     "start_time": null,
     "status": "pending"
    },
    "tags": []
   },
   "outputs": [],
   "source": [
    "data[\"Neighborhood\"].values.unique()"
   ]
  },
  {
   "cell_type": "markdown",
   "id": "466900af",
   "metadata": {
    "execution": {
     "iopub.execute_input": "2024-09-21T14:01:10.975399Z",
     "iopub.status.busy": "2024-09-21T14:01:10.974830Z",
     "iopub.status.idle": "2024-09-21T14:01:12.681450Z",
     "shell.execute_reply": "2024-09-21T14:01:12.680172Z",
     "shell.execute_reply.started": "2024-09-21T14:01:10.975348Z"
    },
    "papermill": {
     "duration": null,
     "end_time": null,
     "exception": null,
     "start_time": null,
     "status": "pending"
    },
    "tags": []
   },
   "source": [
    "for n in data[\"Neighborhood\"].values:\n",
    "    \n",
    "    #tmp = data[data[\"Neighborhood\"]==n]\n",
    "    #print(n, \" : \", tmp[\"SalePrice\"].mean(), \"+-\", tmp[\"SalePrice\"].std())"
   ]
  },
  {
   "cell_type": "code",
   "execution_count": null,
   "id": "728d6219",
   "metadata": {
    "execution": {
     "iopub.execute_input": "2024-09-22T15:44:59.042511Z",
     "iopub.status.busy": "2024-09-22T15:44:59.042029Z",
     "iopub.status.idle": "2024-09-22T15:44:59.049615Z",
     "shell.execute_reply": "2024-09-22T15:44:59.048311Z",
     "shell.execute_reply.started": "2024-09-22T15:44:59.042468Z"
    },
    "papermill": {
     "duration": null,
     "end_time": null,
     "exception": null,
     "start_time": null,
     "status": "pending"
    },
    "tags": []
   },
   "outputs": [],
   "source": [
    "df = data.copy()"
   ]
  },
  {
   "cell_type": "code",
   "execution_count": null,
   "id": "2ea0162f",
   "metadata": {
    "execution": {
     "iopub.execute_input": "2024-09-22T16:06:19.298893Z",
     "iopub.status.busy": "2024-09-22T16:06:19.298454Z",
     "iopub.status.idle": "2024-09-22T16:06:19.306392Z",
     "shell.execute_reply": "2024-09-22T16:06:19.305020Z",
     "shell.execute_reply.started": "2024-09-22T16:06:19.298851Z"
    },
    "papermill": {
     "duration": null,
     "end_time": null,
     "exception": null,
     "start_time": null,
     "status": "pending"
    },
    "tags": []
   },
   "outputs": [],
   "source": [
    "from sklearn.base import BaseEstimator, TransformerMixin\n",
    "\n",
    "class DataFrameSelector(BaseEstimator, TransformerMixin):\n",
    "    def __init__(self, attribute_names):\n",
    "        self.attribute_names = attribute_names\n",
    "    def fit(self, X, y=None):\n",
    "        return self\n",
    "    def transform(self, X):\n",
    "        return X[self.attribute_names].values"
   ]
  },
  {
   "cell_type": "code",
   "execution_count": null,
   "id": "127a77fd",
   "metadata": {
    "execution": {
     "iopub.execute_input": "2024-09-22T16:06:19.838165Z",
     "iopub.status.busy": "2024-09-22T16:06:19.837674Z",
     "iopub.status.idle": "2024-09-22T16:06:19.856669Z",
     "shell.execute_reply": "2024-09-22T16:06:19.855229Z",
     "shell.execute_reply.started": "2024-09-22T16:06:19.838120Z"
    },
    "papermill": {
     "duration": null,
     "end_time": null,
     "exception": null,
     "start_time": null,
     "status": "pending"
    },
    "tags": []
   },
   "outputs": [],
   "source": [
    "num_attribs = df.select_dtypes(include=np.number)\n",
    "num_attribs = num_attribs.drop({'Id','MSSubClass','SalePrice'}, axis = 1) #Variable à prédire, MSSubClass correspond à des classes notées par 20,30,50... et Id sert à les identifier (à priori inutile ici)\n",
    "#num_data = df[i_num_data]\n",
    "\n",
    "cat_bin_attribs = df[list((\"MSSubClass\",\"MSZoning\",\"Street\",\"Alley\",\"LotConfig\",\"Neighborhood\", \"Condition1\", \"Condition2\",\"BldgType\",\"HouseStyle\",\"RoofStyle\",\"RoofMatl\", \"Exterior1st\",\"Exterior2nd\",\"MasVnrType\",\"Foundation\",\"Heating\",\"CentralAir\",\"Electrical\",\"Functional\",\"GarageType\",\"MiscFeature\",\"SaleType\",\"SaleCondition\"))]\n",
    "cat_scale_attribs = df[list((\"LotShape\",\"LandContour\",\"Utilities\",\"LandSlope\",\"ExterQual\",\"ExterCond\",\"BsmtQual\",\"BsmtCond\",\"BsmtExposure\",\"BsmtFinType1\",\"BsmtFinType2\",\"HeatingQC\",\"KitchenQual\",\"FireplaceQu\",\"GarageFinish\",\"GarageQual\",\"GarageCond\",\"PavedDrive\",\"PoolQC\",\"Fence\"))]\n",
    "\n",
    "will_drop = ((\"MSSubClass\",\"MSZoning\", \"Street\", \"Alley\", \"LotConfig\",\"Condition1\", \"Condition2\", \"YearRemodAdd\", \"YearBuilt\", \"RoofMatl\", \"Exterior1st\", \"Exterior2nd\", \"MasVnrType\", \"MasVnrArea\", \"Foundation\",\"BsmtFinSF1\", \"BsmtFinSF2\", \"GarageYrBlt\", \"GarageFinish\", \"PavedDrive\", \"MoSold\", \"YrSold\"))\n",
    "#print(num_data)\n",
    "#print(cat_bin_attribs)\n",
    "#print(cat_scale_attribs)"
   ]
  },
  {
   "cell_type": "markdown",
   "id": "43049650",
   "metadata": {
    "papermill": {
     "duration": null,
     "end_time": null,
     "exception": null,
     "start_time": null,
     "status": "pending"
    },
    "tags": []
   },
   "source": [
    "On vérifie qu'il n'y a pas de doublons"
   ]
  },
  {
   "cell_type": "code",
   "execution_count": null,
   "id": "d0df23d9",
   "metadata": {
    "execution": {
     "iopub.execute_input": "2024-09-22T16:06:20.862166Z",
     "iopub.status.busy": "2024-09-22T16:06:20.861643Z",
     "iopub.status.idle": "2024-09-22T16:06:20.871444Z",
     "shell.execute_reply": "2024-09-22T16:06:20.870126Z",
     "shell.execute_reply.started": "2024-09-22T16:06:20.862117Z"
    },
    "papermill": {
     "duration": null,
     "end_time": null,
     "exception": null,
     "start_time": null,
     "status": "pending"
    },
    "tags": []
   },
   "outputs": [],
   "source": [
    "print(any(col in num_attribs for col in cat_bin_attribs))\n",
    "print(any(col in num_attribs for col in cat_scale_attribs))\n",
    "print(any(col in cat_scale_attribs for col in cat_bin_attribs))\n",
    "print(set(num_attribs) & set(cat_bin_attribs))\n",
    "print(\"Nombre d'attributs (en retirant la variable à prédire et l'identifiant) :\",len(cat_bin_attribs.columns) + len(cat_scale_attribs.columns) + len(num_attribs.columns) )"
   ]
  },
  {
   "cell_type": "code",
   "execution_count": null,
   "id": "561eeb37",
   "metadata": {
    "execution": {
     "iopub.execute_input": "2024-09-22T16:14:57.695365Z",
     "iopub.status.busy": "2024-09-22T16:14:57.694295Z",
     "iopub.status.idle": "2024-09-22T16:14:57.704780Z",
     "shell.execute_reply": "2024-09-22T16:14:57.703093Z",
     "shell.execute_reply.started": "2024-09-22T16:14:57.695304Z"
    },
    "papermill": {
     "duration": null,
     "end_time": null,
     "exception": null,
     "start_time": null,
     "status": "pending"
    },
    "tags": []
   },
   "outputs": [],
   "source": [
    "lot_fr_ix, lot_area_ix, fbath_ix, bs_fbath_ix, hbath_ix, bs_hbath_ix, y_constr_ix, y_renov_ix = num_attribs.columns.get_loc(\"LotFrontage\"), num_attribs.columns.get_loc(\"LotArea\"), num_attribs.columns.get_loc(\"FullBath\"), num_attribs.columns.get_loc(\"BsmtFullBath\"), num_attribs.columns.get_loc(\"HalfBath\"), num_attribs.columns.get_loc(\"BsmtHalfBath\"), num_attribs.columns.get_loc(\"YearBuilt\"), num_attribs.columns.get_loc(\"YearRemodAdd\")"
   ]
  },
  {
   "cell_type": "markdown",
   "id": "0bfcc2cd",
   "metadata": {
    "execution": {
     "iopub.execute_input": "2024-09-22T15:04:28.275122Z",
     "iopub.status.busy": "2024-09-22T15:04:28.274573Z",
     "iopub.status.idle": "2024-09-22T15:04:28.332702Z",
     "shell.execute_reply": "2024-09-22T15:04:28.330820Z",
     "shell.execute_reply.started": "2024-09-22T15:04:28.275074Z"
    },
    "papermill": {
     "duration": null,
     "end_time": null,
     "exception": null,
     "start_time": null,
     "status": "pending"
    },
    "tags": []
   },
   "source": [
    "cat_bin_attribs = (df.columns.get_loc(\"Neighborhood\"),df.columns.get_loc(\"BldgType\"),df.columns.get_loc(\"HouseStyle\"),df.columns.get_loc(\"RoofStyle\"),df.columns.get_loc(\"Heating\"),df.columns.get_loc(\"CentralAir\"),df.columns.get_loc(\"Electrical\"),df.columns.get_loc(\"Functional\"),df.columns.get_loc(\"GarageType\"),df.columns.get_loc(\"MiscFeature\"),df.columns.get_loc(\"SaleType\"),df.columns.get_loc(\"SaleCondition\"))\n",
    "cat_scale_attribs = (df.columns.get_loc(\"LotShape\"), df.columns.get_loc(\"LandContour\"), df.columns.get_loc(\"Utilities\"), df.columns.get_loc(\"LandSlope\"), df.columns.get_loc(\"ExterQual\"), df.columns.get_loc(\"ExterCond\"),df.columns.get_loc(\"BsmtQual\"),df.columns.get_loc(\"BsmtCond\"),df.columns.get_loc(\"BsmtExposure\"),df.columns.get_loc(\"BsmtFinType1\"),df.columns.get_loc(\"BsmtFinType2\"),df.columns.get_loc(\"HeatingQC\"),df.columns.get_loc(\"KitchenQual\"),df.columns.get_loc(\"FireplaceQu\"),df.columns.get_loc(\"GarageQual\"),df.columns.get_loc(\"GarageCond\"),df.columns.get_loc(\"PoolQC\"),df.columns.get_loc(\"Fence\"))\n",
    "\n",
    "print(num_attribs)"
   ]
  },
  {
   "cell_type": "code",
   "execution_count": null,
   "id": "bd4b3b82",
   "metadata": {
    "execution": {
     "iopub.execute_input": "2024-09-22T16:53:02.288634Z",
     "iopub.status.busy": "2024-09-22T16:53:02.287472Z",
     "iopub.status.idle": "2024-09-22T16:53:02.303623Z",
     "shell.execute_reply": "2024-09-22T16:53:02.301885Z",
     "shell.execute_reply.started": "2024-09-22T16:53:02.288575Z"
    },
    "papermill": {
     "duration": null,
     "end_time": null,
     "exception": null,
     "start_time": null,
     "status": "pending"
    },
    "tags": []
   },
   "outputs": [],
   "source": [
    "from sklearn.base import BaseEstimator, TransformerMixin\n",
    "\n",
    "\n",
    "class CombinedAttributesAdder(BaseEstimator, TransformerMixin):\n",
    "    def __init__(self, add_connected2street = True, add_ratio_fbath = False, add_ratio_hbath = False, add_is_renoved = True):\n",
    "        self.add_connected2street = add_connected2street\n",
    "        self.add_ratio_fbath = add_ratio_fbath\n",
    "        self.add_ratio_hbath = add_ratio_hbath\n",
    "        self.add_is_renoved = add_is_renoved\n",
    "    def fit(self, X, y=None):\n",
    "        return self\n",
    "    def transform(self, X, y=None):\n",
    "        tmp = np.c_[X]\n",
    "        if self.add_connected2street == True:\n",
    "            isconnected2street = X[:,lot_fr_ix] / X[:,lot_area_ix]\n",
    "            tmp = np.column_stack((tmp, isconnected2street))\n",
    "        if self.add_ratio_fbath == True:\n",
    "            denom = X[:, bs_fbath_ix]\n",
    "            ratio_fbath = np.where(denom != 0, X[:, fbath_ix] / denom, 0)  # 0 si dénominateur est 0\n",
    "            tmp = np.column_stack((tmp, ratio_fbath))\n",
    "        if self.add_ratio_hbath == True:\n",
    "            denom = X[:, bs_hbath_ix]\n",
    "            ratio_hbath = np.where(denom != 0, X[:, hbath_ix] / denom, 0)  # 0 si dénominateur est 0\n",
    "            tmp = np.column_stack((tmp, ratio_hbath))\n",
    "        if self.add_is_renoved == True:\n",
    "            is_renoved = X[:, y_renov_ix] - X[:, y_constr_ix]\n",
    "            tmp = np.column_stack((tmp, is_renoved))\n",
    "        return tmp"
   ]
  },
  {
   "cell_type": "code",
   "execution_count": null,
   "id": "6d8f3d36",
   "metadata": {
    "execution": {
     "iopub.execute_input": "2024-09-22T16:53:02.308559Z",
     "iopub.status.busy": "2024-09-22T16:53:02.307953Z",
     "iopub.status.idle": "2024-09-22T16:53:02.324113Z",
     "shell.execute_reply": "2024-09-22T16:53:02.321651Z",
     "shell.execute_reply.started": "2024-09-22T16:53:02.308498Z"
    },
    "papermill": {
     "duration": null,
     "end_time": null,
     "exception": null,
     "start_time": null,
     "status": "pending"
    },
    "tags": []
   },
   "outputs": [],
   "source": [
    "#attr_adder = CombinedAttributesAdder(add_connected2street = True, add_ratio_fbath = True, add_ratio_hbath = True, add_is_renoved = True)\n",
    "#df_extra_attribs = attr_adder.transform(df.values)"
   ]
  },
  {
   "cell_type": "code",
   "execution_count": null,
   "id": "55a6b777",
   "metadata": {
    "execution": {
     "iopub.execute_input": "2024-09-22T17:42:39.896261Z",
     "iopub.status.busy": "2024-09-22T17:42:39.895705Z",
     "iopub.status.idle": "2024-09-22T17:42:39.908953Z",
     "shell.execute_reply": "2024-09-22T17:42:39.907598Z",
     "shell.execute_reply.started": "2024-09-22T17:42:39.896192Z"
    },
    "papermill": {
     "duration": null,
     "end_time": null,
     "exception": null,
     "start_time": null,
     "status": "pending"
    },
    "tags": []
   },
   "outputs": [],
   "source": [
    "from sklearn.pipeline import Pipeline\n",
    "from sklearn.preprocessing import StandardScaler, OneHotEncoder, OrdinalEncoder\n",
    "from sklearn.impute import SimpleImputer\n",
    "from sklearn.compose import ColumnTransformer\n",
    "\n",
    "num_pipeline = Pipeline([\n",
    "    ('imputer', SimpleImputer(strategy=\"median\")),\n",
    "    ('attribs_adder', CombinedAttributesAdder()),\n",
    "    ('std_scaler', StandardScaler()),\n",
    "])\n",
    "\n",
    "cat_bin_pipeline = Pipeline([\n",
    "    ('imputer', SimpleImputer(strategy=\"most_frequent\")),\n",
    "    ('onehot', OneHotEncoder(handle_unknown=\"ignore\"))\n",
    "    \n",
    "])\n",
    "\n",
    "cat_scale_pipeline = Pipeline([\n",
    "    ('imputer', SimpleImputer(strategy=\"most_frequent\")),\n",
    "    ('ordinal', OrdinalEncoder(handle_unknown=\"use_encoded_value\", unknown_value =-1)) #maybe à spécifier\n",
    "    \n",
    "    \n",
    "])\n",
    "\n",
    "full_pipeline = ColumnTransformer([\n",
    "    (\"num_pipeline\", num_pipeline, num_attribs.columns),\n",
    "    (\"cat_bin_pipeline\", cat_bin_pipeline, cat_bin_attribs.columns),\n",
    "    (\"cat_scale_pipeline\", cat_scale_pipeline, cat_scale_attribs.columns),\n",
    "    \n",
    "])"
   ]
  },
  {
   "cell_type": "code",
   "execution_count": null,
   "id": "88b45acd",
   "metadata": {
    "execution": {
     "iopub.execute_input": "2024-09-22T17:42:41.368304Z",
     "iopub.status.busy": "2024-09-22T17:42:41.367800Z",
     "iopub.status.idle": "2024-09-22T17:42:41.464294Z",
     "shell.execute_reply": "2024-09-22T17:42:41.462743Z",
     "shell.execute_reply.started": "2024-09-22T17:42:41.368257Z"
    },
    "papermill": {
     "duration": null,
     "end_time": null,
     "exception": null,
     "start_time": null,
     "status": "pending"
    },
    "tags": []
   },
   "outputs": [],
   "source": [
    "df_prepared = full_pipeline.fit_transform(df)"
   ]
  },
  {
   "cell_type": "code",
   "execution_count": null,
   "id": "2aa01586",
   "metadata": {
    "execution": {
     "iopub.execute_input": "2024-09-22T17:42:43.091745Z",
     "iopub.status.busy": "2024-09-22T17:42:43.091268Z",
     "iopub.status.idle": "2024-09-22T17:42:43.151113Z",
     "shell.execute_reply": "2024-09-22T17:42:43.149792Z",
     "shell.execute_reply.started": "2024-09-22T17:42:43.091699Z"
    },
    "papermill": {
     "duration": null,
     "end_time": null,
     "exception": null,
     "start_time": null,
     "status": "pending"
    },
    "tags": []
   },
   "outputs": [],
   "source": [
    "from sklearn.linear_model import LinearRegression\n",
    "lin_reg = LinearRegression()\n",
    "lin_reg.fit(df_prepared, df[\"SalePrice\"])"
   ]
  },
  {
   "cell_type": "code",
   "execution_count": null,
   "id": "4de27699",
   "metadata": {
    "execution": {
     "iopub.execute_input": "2024-09-22T17:42:44.545747Z",
     "iopub.status.busy": "2024-09-22T17:42:44.545277Z",
     "iopub.status.idle": "2024-09-22T17:42:44.583967Z",
     "shell.execute_reply": "2024-09-22T17:42:44.577339Z",
     "shell.execute_reply.started": "2024-09-22T17:42:44.545705Z"
    },
    "papermill": {
     "duration": null,
     "end_time": null,
     "exception": null,
     "start_time": null,
     "status": "pending"
    },
    "tags": []
   },
   "outputs": [],
   "source": [
    "some_data = data.iloc[:5, :-1]\n",
    "some_labels = data.iloc[:5, -1]\n",
    "some_data_prepared = full_pipeline.transform(some_data)"
   ]
  },
  {
   "cell_type": "code",
   "execution_count": null,
   "id": "bb93bfef",
   "metadata": {
    "execution": {
     "iopub.execute_input": "2024-09-22T17:42:46.452893Z",
     "iopub.status.busy": "2024-09-22T17:42:46.452405Z",
     "iopub.status.idle": "2024-09-22T17:42:46.460232Z",
     "shell.execute_reply": "2024-09-22T17:42:46.458899Z",
     "shell.execute_reply.started": "2024-09-22T17:42:46.452847Z"
    },
    "papermill": {
     "duration": null,
     "end_time": null,
     "exception": null,
     "start_time": null,
     "status": "pending"
    },
    "tags": []
   },
   "outputs": [],
   "source": [
    "print(\"Predictions : \", lin_reg.predict(some_data_prepared))"
   ]
  },
  {
   "cell_type": "code",
   "execution_count": null,
   "id": "9eeac5e6",
   "metadata": {
    "execution": {
     "iopub.execute_input": "2024-09-22T17:42:48.306739Z",
     "iopub.status.busy": "2024-09-22T17:42:48.306278Z",
     "iopub.status.idle": "2024-09-22T17:42:48.313744Z",
     "shell.execute_reply": "2024-09-22T17:42:48.312315Z",
     "shell.execute_reply.started": "2024-09-22T17:42:48.306689Z"
    },
    "papermill": {
     "duration": null,
     "end_time": null,
     "exception": null,
     "start_time": null,
     "status": "pending"
    },
    "tags": []
   },
   "outputs": [],
   "source": [
    "print(\"Valeurs : \", some_labels)"
   ]
  },
  {
   "cell_type": "code",
   "execution_count": null,
   "id": "5aee40a6",
   "metadata": {
    "execution": {
     "iopub.execute_input": "2024-09-22T17:42:49.462181Z",
     "iopub.status.busy": "2024-09-22T17:42:49.461514Z",
     "iopub.status.idle": "2024-09-22T17:42:49.480282Z",
     "shell.execute_reply": "2024-09-22T17:42:49.478155Z",
     "shell.execute_reply.started": "2024-09-22T17:42:49.462120Z"
    },
    "papermill": {
     "duration": null,
     "end_time": null,
     "exception": null,
     "start_time": null,
     "status": "pending"
    },
    "tags": []
   },
   "outputs": [],
   "source": [
    "from sklearn.metrics import mean_squared_error\n",
    "housing_predictions = lin_reg.predict(df_prepared)\n",
    "lin_mse = mean_squared_error(df[\"SalePrice\"], housing_predictions)\n",
    "lin_rmse = np.sqrt(lin_mse)\n",
    "print(lin_rmse)"
   ]
  },
  {
   "cell_type": "markdown",
   "id": "425cce01",
   "metadata": {
    "papermill": {
     "duration": null,
     "end_time": null,
     "exception": null,
     "start_time": null,
     "status": "pending"
    },
    "tags": []
   },
   "source": [
    "surface street 22367.386510090553 / +renoved 22381.481658672645 / AUtres : nul / Rien :22390.380006853156\n"
   ]
  },
  {
   "cell_type": "code",
   "execution_count": null,
   "id": "36785aa7",
   "metadata": {
    "execution": {
     "iopub.execute_input": "2024-09-22T17:42:50.202891Z",
     "iopub.status.busy": "2024-09-22T17:42:50.202383Z",
     "iopub.status.idle": "2024-09-22T17:42:50.272432Z",
     "shell.execute_reply": "2024-09-22T17:42:50.271032Z",
     "shell.execute_reply.started": "2024-09-22T17:42:50.202836Z"
    },
    "papermill": {
     "duration": null,
     "end_time": null,
     "exception": null,
     "start_time": null,
     "status": "pending"
    },
    "tags": []
   },
   "outputs": [],
   "source": [
    "from sklearn.tree import DecisionTreeRegressor\n",
    "tree_reg = DecisionTreeRegressor()\n",
    "tree_reg.fit(df_prepared, df[\"SalePrice\"])"
   ]
  },
  {
   "cell_type": "code",
   "execution_count": null,
   "id": "0cb9e1c8",
   "metadata": {
    "execution": {
     "iopub.execute_input": "2024-09-22T17:42:50.542605Z",
     "iopub.status.busy": "2024-09-22T17:42:50.542171Z",
     "iopub.status.idle": "2024-09-22T17:42:50.552740Z",
     "shell.execute_reply": "2024-09-22T17:42:50.551067Z",
     "shell.execute_reply.started": "2024-09-22T17:42:50.542565Z"
    },
    "papermill": {
     "duration": null,
     "end_time": null,
     "exception": null,
     "start_time": null,
     "status": "pending"
    },
    "tags": []
   },
   "outputs": [],
   "source": [
    "housing_predictions_T = tree_reg.predict(df_prepared)\n",
    "lin_mse_T = mean_squared_error(df[\"SalePrice\"], housing_predictions_T)\n",
    "lin_rmse_T = np.sqrt(lin_mse_T)\n",
    "print(lin_rmse_T)"
   ]
  },
  {
   "cell_type": "code",
   "execution_count": null,
   "id": "b2a1b1bb",
   "metadata": {
    "execution": {
     "iopub.execute_input": "2024-09-22T17:42:50.829231Z",
     "iopub.status.busy": "2024-09-22T17:42:50.828725Z",
     "iopub.status.idle": "2024-09-22T17:42:52.597208Z",
     "shell.execute_reply": "2024-09-22T17:42:52.595351Z",
     "shell.execute_reply.started": "2024-09-22T17:42:50.829166Z"
    },
    "papermill": {
     "duration": null,
     "end_time": null,
     "exception": null,
     "start_time": null,
     "status": "pending"
    },
    "tags": []
   },
   "outputs": [],
   "source": [
    "from sklearn.model_selection import cross_val_score\n",
    "scores_T = cross_val_score(tree_reg, df_prepared, df[\"SalePrice\"], scoring=\"neg_mean_squared_error\",cv=10)\n",
    "tree_rmse_scores = np.sqrt(-scores_T)\n",
    "scores_lin = cross_val_score(lin_reg, df_prepared, df[\"SalePrice\"], scoring=\"neg_mean_squared_error\",cv=10)\n",
    "lin_rmse_scores = np.sqrt(-scores_lin)"
   ]
  },
  {
   "cell_type": "code",
   "execution_count": null,
   "id": "e890eaa1",
   "metadata": {
    "execution": {
     "iopub.execute_input": "2024-09-22T17:42:52.609805Z",
     "iopub.status.busy": "2024-09-22T17:42:52.600412Z",
     "iopub.status.idle": "2024-09-22T17:42:52.619424Z",
     "shell.execute_reply": "2024-09-22T17:42:52.617776Z",
     "shell.execute_reply.started": "2024-09-22T17:42:52.609692Z"
    },
    "papermill": {
     "duration": null,
     "end_time": null,
     "exception": null,
     "start_time": null,
     "status": "pending"
    },
    "tags": []
   },
   "outputs": [],
   "source": [
    "def display_score(scores):\n",
    "    print(\"Scores : \", scores)\n",
    "    print(\"Moyenne : \", scores.mean())\n",
    "    print(\"Ecart type : \", scores.std())"
   ]
  },
  {
   "cell_type": "code",
   "execution_count": null,
   "id": "9bbf8930",
   "metadata": {
    "execution": {
     "iopub.execute_input": "2024-09-22T17:42:52.623305Z",
     "iopub.status.busy": "2024-09-22T17:42:52.622312Z",
     "iopub.status.idle": "2024-09-22T17:42:52.644157Z",
     "shell.execute_reply": "2024-09-22T17:42:52.642608Z",
     "shell.execute_reply.started": "2024-09-22T17:42:52.623194Z"
    },
    "papermill": {
     "duration": null,
     "end_time": null,
     "exception": null,
     "start_time": null,
     "status": "pending"
    },
    "tags": []
   },
   "outputs": [],
   "source": [
    "display_score(tree_rmse_scores)\n",
    "display_score(lin_rmse_scores)"
   ]
  },
  {
   "cell_type": "code",
   "execution_count": null,
   "id": "805dc031",
   "metadata": {
    "execution": {
     "iopub.execute_input": "2024-09-22T17:42:52.650554Z",
     "iopub.status.busy": "2024-09-22T17:42:52.649631Z",
     "iopub.status.idle": "2024-09-22T17:43:28.824541Z",
     "shell.execute_reply": "2024-09-22T17:43:28.823113Z",
     "shell.execute_reply.started": "2024-09-22T17:42:52.650464Z"
    },
    "papermill": {
     "duration": null,
     "end_time": null,
     "exception": null,
     "start_time": null,
     "status": "pending"
    },
    "tags": []
   },
   "outputs": [],
   "source": [
    "from sklearn.ensemble import RandomForestRegressor\n",
    "forest_reg = RandomForestRegressor()\n",
    "forest_reg.fit(df_prepared, df[\"SalePrice\"])\n",
    "scores_forest = cross_val_score(forest_reg, df_prepared, df[\"SalePrice\"], scoring=\"neg_mean_squared_error\",cv=10)\n",
    "forest_rmse = np.sqrt(-scores_forest)\n",
    "print(forest_rmse)"
   ]
  },
  {
   "cell_type": "code",
   "execution_count": null,
   "id": "d72d44bd",
   "metadata": {
    "execution": {
     "iopub.execute_input": "2024-09-22T17:43:28.826419Z",
     "iopub.status.busy": "2024-09-22T17:43:28.826009Z",
     "iopub.status.idle": "2024-09-22T17:43:28.834056Z",
     "shell.execute_reply": "2024-09-22T17:43:28.832623Z",
     "shell.execute_reply.started": "2024-09-22T17:43:28.826377Z"
    },
    "papermill": {
     "duration": null,
     "end_time": null,
     "exception": null,
     "start_time": null,
     "status": "pending"
    },
    "tags": []
   },
   "outputs": [],
   "source": [
    "display_score(forest_rmse)"
   ]
  },
  {
   "cell_type": "markdown",
   "id": "0feb427d",
   "metadata": {
    "papermill": {
     "duration": null,
     "end_time": null,
     "exception": null,
     "start_time": null,
     "status": "pending"
    },
    "tags": []
   },
   "source": [
    "Exporter le modèle"
   ]
  },
  {
   "cell_type": "code",
   "execution_count": null,
   "id": "06b5b355",
   "metadata": {
    "execution": {
     "iopub.execute_input": "2024-09-22T17:43:28.836922Z",
     "iopub.status.busy": "2024-09-22T17:43:28.835885Z",
     "iopub.status.idle": "2024-09-22T17:43:28.947837Z",
     "shell.execute_reply": "2024-09-22T17:43:28.946443Z",
     "shell.execute_reply.started": "2024-09-22T17:43:28.836871Z"
    },
    "papermill": {
     "duration": null,
     "end_time": null,
     "exception": null,
     "start_time": null,
     "status": "pending"
    },
    "tags": []
   },
   "outputs": [],
   "source": [
    "import joblib\n",
    "joblib.dump(forest_reg, \"forest_reg_houseP1.pkl\")"
   ]
  },
  {
   "cell_type": "code",
   "execution_count": null,
   "id": "03431ef5",
   "metadata": {
    "execution": {
     "iopub.execute_input": "2024-09-22T17:43:28.949941Z",
     "iopub.status.busy": "2024-09-22T17:43:28.949450Z",
     "iopub.status.idle": "2024-09-22T17:43:59.020417Z",
     "shell.execute_reply": "2024-09-22T17:43:59.019068Z",
     "shell.execute_reply.started": "2024-09-22T17:43:28.949883Z"
    },
    "papermill": {
     "duration": null,
     "end_time": null,
     "exception": null,
     "start_time": null,
     "status": "pending"
    },
    "tags": []
   },
   "outputs": [],
   "source": [
    "from sklearn.model_selection import GridSearchCV\n",
    "param_grid = [\n",
    "    {\"n_estimators\": [84, 86, 88], 'max_features': [30, 32, 35]},\n",
    "    {'bootstrap': [False], \"n_estimators\": [3, 10], 'max_features': [2, 3, 4]},\n",
    "]\n",
    "best_forest_reg = RandomForestRegressor()\n",
    "grid_search = GridSearchCV(best_forest_reg, param_grid, cv=5, scoring=\"neg_mean_squared_error\", refit=True)\n",
    "grid_search.fit(df_prepared, df['SalePrice'])"
   ]
  },
  {
   "cell_type": "code",
   "execution_count": null,
   "id": "eea62206",
   "metadata": {
    "execution": {
     "iopub.execute_input": "2024-09-22T17:43:59.022087Z",
     "iopub.status.busy": "2024-09-22T17:43:59.021723Z",
     "iopub.status.idle": "2024-09-22T17:43:59.029946Z",
     "shell.execute_reply": "2024-09-22T17:43:59.028687Z",
     "shell.execute_reply.started": "2024-09-22T17:43:59.022048Z"
    },
    "papermill": {
     "duration": null,
     "end_time": null,
     "exception": null,
     "start_time": null,
     "status": "pending"
    },
    "tags": []
   },
   "outputs": [],
   "source": [
    "grid_search.best_params_\n",
    "#grid_search.best_estimator_"
   ]
  },
  {
   "cell_type": "code",
   "execution_count": null,
   "id": "dabe8703",
   "metadata": {
    "execution": {
     "iopub.execute_input": "2024-09-22T17:43:59.032245Z",
     "iopub.status.busy": "2024-09-22T17:43:59.031772Z",
     "iopub.status.idle": "2024-09-22T17:43:59.043630Z",
     "shell.execute_reply": "2024-09-22T17:43:59.041933Z",
     "shell.execute_reply.started": "2024-09-22T17:43:59.032174Z"
    },
    "papermill": {
     "duration": null,
     "end_time": null,
     "exception": null,
     "start_time": null,
     "status": "pending"
    },
    "tags": []
   },
   "outputs": [],
   "source": [
    "cvres = grid_search.cv_results_\n",
    "for mean_score, params in zip(cvres[\"mean_test_score\"], cvres[\"params\"]):\n",
    "    print(np.sqrt(-mean_score), params)"
   ]
  },
  {
   "cell_type": "code",
   "execution_count": null,
   "id": "559e4bee",
   "metadata": {
    "execution": {
     "iopub.execute_input": "2024-09-22T17:43:59.048523Z",
     "iopub.status.busy": "2024-09-22T17:43:59.047948Z",
     "iopub.status.idle": "2024-09-22T17:44:13.583105Z",
     "shell.execute_reply": "2024-09-22T17:44:13.581183Z",
     "shell.execute_reply.started": "2024-09-22T17:43:59.048465Z"
    },
    "papermill": {
     "duration": null,
     "end_time": null,
     "exception": null,
     "start_time": null,
     "status": "pending"
    },
    "tags": []
   },
   "outputs": [],
   "source": [
    "from sklearn.model_selection import RandomizedSearchCV\n",
    "param_grid = [\n",
    "    {\"n_estimators\": [84, 86, 88], 'max_features': [30, 32, 35]},\n",
    "    {'bootstrap': [False], \"n_estimators\": [3, 10], 'max_features': [2, 3, 4]},\n",
    "]\n",
    "best_forest_reg = RandomForestRegressor()\n",
    "grid_search_rnd = RandomizedSearchCV(best_forest_reg, param_grid, cv=5, scoring=\"neg_mean_squared_error\", refit=True)\n",
    "grid_search_rnd.fit(df_prepared, df['SalePrice'])"
   ]
  },
  {
   "cell_type": "code",
   "execution_count": null,
   "id": "2ca381b6",
   "metadata": {
    "execution": {
     "iopub.execute_input": "2024-09-22T17:44:13.585780Z",
     "iopub.status.busy": "2024-09-22T17:44:13.585035Z",
     "iopub.status.idle": "2024-09-22T17:44:13.702096Z",
     "shell.execute_reply": "2024-09-22T17:44:13.700448Z",
     "shell.execute_reply.started": "2024-09-22T17:44:13.585717Z"
    },
    "papermill": {
     "duration": null,
     "end_time": null,
     "exception": null,
     "start_time": null,
     "status": "pending"
    },
    "tags": []
   },
   "outputs": [],
   "source": [
    "\n",
    "joblib.dump(forest_reg, \"forest_reg_houseP_rndsearch.pkl\")"
   ]
  },
  {
   "cell_type": "code",
   "execution_count": null,
   "id": "36b0043f",
   "metadata": {
    "execution": {
     "iopub.execute_input": "2024-09-22T17:44:13.704391Z",
     "iopub.status.busy": "2024-09-22T17:44:13.703842Z",
     "iopub.status.idle": "2024-09-22T17:44:13.723178Z",
     "shell.execute_reply": "2024-09-22T17:44:13.721566Z",
     "shell.execute_reply.started": "2024-09-22T17:44:13.704320Z"
    },
    "papermill": {
     "duration": null,
     "end_time": null,
     "exception": null,
     "start_time": null,
     "status": "pending"
    },
    "tags": []
   },
   "outputs": [],
   "source": [
    "feature_importances = grid_search_rnd.best_estimator_.feature_importances_"
   ]
  },
  {
   "cell_type": "code",
   "execution_count": null,
   "id": "b2ccf52a",
   "metadata": {
    "execution": {
     "iopub.execute_input": "2024-09-22T17:44:13.725860Z",
     "iopub.status.busy": "2024-09-22T17:44:13.725369Z",
     "iopub.status.idle": "2024-09-22T17:44:13.733401Z",
     "shell.execute_reply": "2024-09-22T17:44:13.731504Z",
     "shell.execute_reply.started": "2024-09-22T17:44:13.725803Z"
    },
    "papermill": {
     "duration": null,
     "end_time": null,
     "exception": null,
     "start_time": null,
     "status": "pending"
    },
    "tags": []
   },
   "outputs": [],
   "source": [
    "extra_attribs = [\"isconnected2street\", \"add_is_renoved\"]\n",
    "#cat_one_hot_attribs = list(encoder.classes_)\n",
    "attributes = num_attribs.columns.tolist() + extra_attribs + cat_bin_attribs.columns.tolist() + cat_scale_attribs.columns.tolist()"
   ]
  },
  {
   "cell_type": "code",
   "execution_count": null,
   "id": "7feec63f",
   "metadata": {
    "execution": {
     "iopub.execute_input": "2024-09-22T17:44:13.735552Z",
     "iopub.status.busy": "2024-09-22T17:44:13.734940Z",
     "iopub.status.idle": "2024-09-22T17:44:13.756864Z",
     "shell.execute_reply": "2024-09-22T17:44:13.755320Z",
     "shell.execute_reply.started": "2024-09-22T17:44:13.735465Z"
    },
    "papermill": {
     "duration": null,
     "end_time": null,
     "exception": null,
     "start_time": null,
     "status": "pending"
    },
    "tags": []
   },
   "outputs": [],
   "source": [
    "sorted(zip(feature_importances, attributes), reverse=True)"
   ]
  },
  {
   "cell_type": "code",
   "execution_count": null,
   "id": "0773f609",
   "metadata": {
    "execution": {
     "iopub.execute_input": "2024-09-22T17:44:13.759751Z",
     "iopub.status.busy": "2024-09-22T17:44:13.759057Z",
     "iopub.status.idle": "2024-09-22T17:44:13.808070Z",
     "shell.execute_reply": "2024-09-22T17:44:13.806771Z",
     "shell.execute_reply.started": "2024-09-22T17:44:13.759685Z"
    },
    "papermill": {
     "duration": null,
     "end_time": null,
     "exception": null,
     "start_time": null,
     "status": "pending"
    },
    "tags": []
   },
   "outputs": [],
   "source": [
    "final_model = grid_search.best_estimator_\n",
    "\n",
    "data_test = pd.read_csv(\"../input/house-prices-advanced-regression-techniques/test.csv\")\n"
   ]
  },
  {
   "cell_type": "code",
   "execution_count": null,
   "id": "7486b627",
   "metadata": {
    "execution": {
     "iopub.execute_input": "2024-09-22T17:44:13.810429Z",
     "iopub.status.busy": "2024-09-22T17:44:13.809943Z",
     "iopub.status.idle": "2024-09-22T17:44:13.819252Z",
     "shell.execute_reply": "2024-09-22T17:44:13.817396Z",
     "shell.execute_reply.started": "2024-09-22T17:44:13.810382Z"
    },
    "papermill": {
     "duration": null,
     "end_time": null,
     "exception": null,
     "start_time": null,
     "status": "pending"
    },
    "tags": []
   },
   "outputs": [],
   "source": [
    "X_test = data_test.drop(\"Id\", axis = 1)"
   ]
  },
  {
   "cell_type": "code",
   "execution_count": null,
   "id": "c330b6b1",
   "metadata": {
    "execution": {
     "iopub.execute_input": "2024-09-22T17:44:13.821515Z",
     "iopub.status.busy": "2024-09-22T17:44:13.821036Z",
     "iopub.status.idle": "2024-09-22T17:44:13.920346Z",
     "shell.execute_reply": "2024-09-22T17:44:13.917609Z",
     "shell.execute_reply.started": "2024-09-22T17:44:13.821452Z"
    },
    "papermill": {
     "duration": null,
     "end_time": null,
     "exception": null,
     "start_time": null,
     "status": "pending"
    },
    "tags": []
   },
   "outputs": [],
   "source": [
    "\n",
    "\n",
    "X_test_prepared = full_pipeline.transform(X_test)\n",
    "\n",
    "final_predictions = final_model.predict(X_test_prepared)\n"
   ]
  },
  {
   "cell_type": "code",
   "execution_count": null,
   "id": "ee896646",
   "metadata": {
    "execution": {
     "iopub.execute_input": "2024-09-22T17:44:52.962970Z",
     "iopub.status.busy": "2024-09-22T17:44:52.962397Z",
     "iopub.status.idle": "2024-09-22T17:44:52.971105Z",
     "shell.execute_reply": "2024-09-22T17:44:52.969614Z",
     "shell.execute_reply.started": "2024-09-22T17:44:52.962914Z"
    },
    "papermill": {
     "duration": null,
     "end_time": null,
     "exception": null,
     "start_time": null,
     "status": "pending"
    },
    "tags": []
   },
   "outputs": [],
   "source": [
    "\n",
    "output = np.vstack((data_test[\"Id\"], final_predictions))"
   ]
  },
  {
   "cell_type": "code",
   "execution_count": null,
   "id": "75e15e1d",
   "metadata": {
    "execution": {
     "iopub.execute_input": "2024-09-22T17:48:53.776961Z",
     "iopub.status.busy": "2024-09-22T17:48:53.775390Z",
     "iopub.status.idle": "2024-09-22T17:48:53.789720Z",
     "shell.execute_reply": "2024-09-22T17:48:53.788154Z",
     "shell.execute_reply.started": "2024-09-22T17:48:53.776825Z"
    },
    "papermill": {
     "duration": null,
     "end_time": null,
     "exception": null,
     "start_time": null,
     "status": "pending"
    },
    "tags": []
   },
   "outputs": [],
   "source": [
    "print(output)\n",
    "np.savetxt(\"submission.csv\", output, delimiter=\",\", header=\"Id,SalePrice\")"
   ]
  },
  {
   "cell_type": "markdown",
   "id": "03c61c94",
   "metadata": {
    "execution": {
     "iopub.execute_input": "2024-09-22T16:29:42.841159Z",
     "iopub.status.busy": "2024-09-22T16:29:42.840707Z",
     "iopub.status.idle": "2024-09-22T16:29:42.970802Z",
     "shell.execute_reply": "2024-09-22T16:29:42.969102Z",
     "shell.execute_reply.started": "2024-09-22T16:29:42.841117Z"
    },
    "papermill": {
     "duration": null,
     "end_time": null,
     "exception": null,
     "start_time": null,
     "status": "pending"
    },
    "tags": []
   },
   "source": [
    "df[\"LotFrontage\"] = df[\"LotFrontage\"]/df[\"LotArea\"] #La longueur connectée à la rue dpd de l'aire\n",
    "df[\"GoodBath\"] = df[\"FullBath\"] / df[\"BasmtFullBath\"]\n",
    "df[\"GoodHalfBath\"] = df[\"HalfBath\"] / df[\"BasmtHalfBath\"]\n",
    "df[\"LastRenov\"] = df[\"YearRemodAdd\"] - df[\"YearBuilt\"]\n",
    "num_cat = {\"OverallQual\", \"OverallCond\", \"TotalBsmtSF\", \"1stFlrSF\", \"2ndFlrSF\", \"LowQualFinSF\", \"GrLiveArea\", \"BsmtFullBath\", \"BsmtHalfBath\", \"Kitchen\", \"TotRmsAbvGrd\", \"Fireplaces\", \"GarageCars\", \"GarageArea\", \"WoodDeckSF\", \"OpenPorchSF\", \"EnclosedPorch\", \"3SsnPorch\", \"ScreenPorch\", \"PoolArea\", \"MiscVal\"}"
   ]
  },
  {
   "cell_type": "markdown",
   "id": "83708257",
   "metadata": {
    "execution": {
     "iopub.execute_input": "2024-09-22T07:47:18.983614Z",
     "iopub.status.busy": "2024-09-22T07:47:18.983166Z",
     "iopub.status.idle": "2024-09-22T07:47:19.014954Z",
     "shell.execute_reply": "2024-09-22T07:47:19.013879Z",
     "shell.execute_reply.started": "2024-09-22T07:47:18.983573Z"
    },
    "papermill": {
     "duration": null,
     "end_time": null,
     "exception": null,
     "start_time": null,
     "status": "pending"
    },
    "tags": []
   },
   "source": [
    "df.drop({\"MSSubClass\",\"MSZoning\", \"Street\", \"Alley\", \"LotConfig\",\"Condition1\", \"Condition2\", \"YearRemodAdd\", \"YearBuilt\", \"RoofMatl\", \"Exterior1st\", \"Exterior2nd\", \"MasVnrType\", \"MasVnrArea\", \"Foundation\",\"BsmtFinSF1\", \"BsmtFinSF2\", \"GarageYrBlt\", \"GarageFinish\", \"PavedDrive\", \"MoSold\", \"YrSold\", }, axis=1)"
   ]
  },
  {
   "cell_type": "markdown",
   "id": "f2d59e8a",
   "metadata": {
    "execution": {
     "iopub.execute_input": "2024-09-22T15:54:06.021406Z",
     "iopub.status.busy": "2024-09-22T15:54:06.020952Z",
     "iopub.status.idle": "2024-09-22T15:54:06.032169Z",
     "shell.execute_reply": "2024-09-22T15:54:06.030696Z",
     "shell.execute_reply.started": "2024-09-22T15:54:06.021365Z"
    },
    "papermill": {
     "duration": null,
     "end_time": null,
     "exception": null,
     "start_time": null,
     "status": "pending"
    },
    "tags": []
   },
   "source": [
    "se Prices | Version 1from sklearn.pipeline import Pipeline\n",
    "from sklearn.preprocessing import StandardScaler, OneHotEncoder, OrdinalEncoder\n",
    "from sklearn.impute import SimpleImputer\n",
    "from sklearn.compose import ColumnTransformer\n",
    "\n",
    "num_pipeline = Pipeline([\n",
    "    ('selector', DataFrameSelector(num_attribs)),\n",
    "    ('imputer', SimpleImputer(strategy=\"median\")),\n",
    "    ('attribs_adder', CombinedAttributesAdder()),\n",
    "    ('std_scaler', StandardScaler()),\n",
    "])\n",
    "\n",
    "cat_bin_pipeline = Pipeline([\n",
    "    ('imputer', SimpleImputer(strategy=\"most_frequent\")),\n",
    "    'selector', DataFrameSelector(cat_bin_attribs),\n",
    "    ('label_binarizer', LabelBinarizer()),\n",
    "    \n",
    "])\n",
    "\n",
    "cat_scale_pipeline = Pipeline([\n",
    "    'selector', DataFrameSelector(cat_scale_attribs),\n",
    "    ('label_encoder', LabelEncoder()),\n",
    "    \n",
    "])\n",
    "\n",
    "full_pipeline = FeatureUnion(transformer_list = [\n",
    "    (\"num_pipeline\", num_pipeline),\n",
    "    (\"cat_bin_pipeline\", cat_bin_pipeline),\n",
    "    (\"cat_scale_pipeline\", cat_scale_pipeline),\n",
    "    \n",
    "])"
   ]
  },
  {
   "cell_type": "code",
   "execution_count": null,
   "id": "51f0f63c",
   "metadata": {
    "papermill": {
     "duration": null,
     "end_time": null,
     "exception": null,
     "start_time": null,
     "status": "pending"
    },
    "tags": []
   },
   "outputs": [],
   "source": []
  },
  {
   "cell_type": "markdown",
   "id": "3e36225d",
   "metadata": {
    "execution": {
     "iopub.execute_input": "2024-09-22T15:37:41.985352Z",
     "iopub.status.busy": "2024-09-22T15:37:41.984777Z",
     "iopub.status.idle": "2024-09-22T15:37:41.991871Z",
     "shell.execute_reply": "2024-09-22T15:37:41.990702Z",
     "shell.execute_reply.started": "2024-09-22T15:37:41.985303Z"
    },
    "papermill": {
     "duration": null,
     "end_time": null,
     "exception": null,
     "start_time": null,
     "status": "pending"
    },
    "tags": []
   },
   "source": [
    "print(df.columns.get_loc(\"YearBuilt\"))"
   ]
  },
  {
   "cell_type": "markdown",
   "id": "100ba098",
   "metadata": {
    "papermill": {
     "duration": null,
     "end_time": null,
     "exception": null,
     "start_time": null,
     "status": "pending"
    },
    "tags": []
   },
   "source": [
    "df[\"LotFrontage\"] = df[\"LotFrontage\"]/df[\"LotArea\"] #La longueur connectée à la rue dpd de l'aire\n",
    "df[\"GoodBath\"] = df[\"FullBath\"] / df[\"BsmtFullBath\"]\n",
    "df[\"GoodHalfBath\"] = df[\"HalfBath\"] / df[\"BsmtHalfBath\"]\n",
    "df[\"LastRenov\"] = df[\"YearRemodAdd\"] - df[\"YearBuilt\"]"
   ]
  },
  {
   "cell_type": "markdown",
   "id": "f42ab7d6",
   "metadata": {
    "papermill": {
     "duration": null,
     "end_time": null,
     "exception": null,
     "start_time": null,
     "status": "pending"
    },
    "tags": []
   },
   "source": [
    "df[\"Neighborhood\"] = OneHotEncoder().fit_transform(df[\"Neighborhood\"].reshape(-1,1))\n",
    "df[\"BldgType\"] = OneHotEncoder().fit_transform(df[\"BldgType\"].reshape(-1,1))\n",
    "df[\"HouseStyle\"] = OneHotEncoder().fit_transform(df[\"HouseStyle\"].reshape(-1,1))\n",
    "df[\"RoofStyle\"] = OneHotEncoder().fit_transform(df[\"RoofStyle\"].reshape(-1,1))\n",
    "df[\"Heating\"] = OneHotEncoder().fit_transform(df[\"Heating\"].reshape(-1,1))\n",
    "df[\"CentralAir\"] = OneHotEncoder().fit_transform(df[\"CentralAir\"].reshape(-1,1))\n",
    "df[\"Electrical\"] = OneHotEncoder().fit_transform(df[\"Electrical\"].reshape(-1,1))\n",
    "df[\"Functional\"] = OneHotEncoder().fit_transform(df[\"Functional\"].reshape(-1,1))\n",
    "df[\"GarageType\"] = OneHotEncoder().fit_transform(df[\"GarageType\"].reshape(-1,1))\n",
    "df[\"MiscFeature\"] = OneHotEncoder().fit_transform(df[\"MiscFeature\"].reshape(-1,1))\n",
    "df[\"SaleType\"] = OneHotEncoder().fit_transform(df[\"SaleType\"].reshape(-1,1))\n",
    "df[\"SaleCondition\"] = OneHotEncoder().fit_transform(df[\"SaleCondition\"].reshape(-1,1))"
   ]
  }
 ],
 "metadata": {
  "kaggle": {
   "accelerator": "none",
   "dataSources": [
    {
     "databundleVersionId": 868283,
     "sourceId": 5407,
     "sourceType": "competition"
    },
    {
     "datasetId": 5227,
     "sourceId": 7876,
     "sourceType": "datasetVersion"
    }
   ],
   "dockerImageVersionId": 30761,
   "isGpuEnabled": false,
   "isInternetEnabled": true,
   "language": "python",
   "sourceType": "notebook"
  },
  "kernelspec": {
   "display_name": "Python 3",
   "language": "python",
   "name": "python3"
  },
  "language_info": {
   "codemirror_mode": {
    "name": "ipython",
    "version": 3
   },
   "file_extension": ".py",
   "mimetype": "text/x-python",
   "name": "python",
   "nbconvert_exporter": "python",
   "pygments_lexer": "ipython3",
   "version": "3.10.14"
  },
  "papermill": {
   "default_parameters": {},
   "duration": 5.153981,
   "end_time": "2024-09-22T17:49:20.075896",
   "environment_variables": {},
   "exception": true,
   "input_path": "__notebook__.ipynb",
   "output_path": "__notebook__.ipynb",
   "parameters": {},
   "start_time": "2024-09-22T17:49:14.921915",
   "version": "2.6.0"
  }
 },
 "nbformat": 4,
 "nbformat_minor": 5
}
